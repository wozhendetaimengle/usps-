{
 "cells": [
  {
   "cell_type": "code",
   "execution_count": 472,
   "metadata": {},
   "outputs": [],
   "source": [
    "import scipy.io as sio\n",
    "import numpy\n",
    "# matFile 读取\n",
    "matFile = 'usps_all.mat'\n",
    "datas = sio.loadmat(matFile)\n",
    "import torch\n",
    "import torch.utils.data as Data\n",
    "from torch.nn import functional as F\n",
    "import torch.nn as nn"
   ]
  },
  {
   "cell_type": "markdown",
   "metadata": {},
   "source": [
    "# 数据处理"
   ]
  },
  {
   "cell_type": "code",
   "execution_count": null,
   "metadata": {},
   "outputs": [],
   "source": [
    "data = datas['data']\n",
    "data = torch.Tensor(data)\n",
    "train_data = data[:,:1000,:]\n",
    "test_data = data[:,1000:,:]\n",
    "# test_data.size()\n",
    "train_data = train_data.reshape(16,16,-1)\n",
    "test_data = test_data.reshape(16,16,-1)\n",
    "# import matplotlib.pyplot as plt #画图\n",
    "# plt.imshow(train_data[:,:,2])\n",
    "train_data = train_data.permute(2,1,0)\n",
    "test_data = test_data.permute(2,1,0)\n",
    "train_data = Data.TensorDataset(train_data,((torch.arange(10000)+1)%10)) #range()\n",
    "test_data = Data.TensorDataset(test_data,((torch.arange(1000)+1)%10))\n",
    "train_data_loader = Data.DataLoader(train_data, batch_size = 10 , shuffle = True)\n",
    "test_data_loader = Data.DataLoader(test_data, batch_size = 10 , shuffle = True)"
   ]
  },
  {
   "cell_type": "markdown",
   "metadata": {},
   "source": [
    "# 数据集检查"
   ]
  },
  {
   "cell_type": "code",
   "execution_count": 439,
   "metadata": {},
   "outputs": [
    {
     "name": "stdout",
     "output_type": "stream",
     "text": [
      "torch.Size([10, 16, 16])\n"
     ]
    },
    {
     "data": {
      "image/png": "[encoded data removed]",
      "text/plain": [
       "<Figure size 432x288 with 1 Axes>"
      ]
     },
     "metadata": {
      "needs_background": "light"
     },
     "output_type": "display_data"
    }
   ],
   "source": [
    "import matplotlib.pyplot as plt #画图\n",
    "for x,y in train_data_loader:\n",
    "    print(x.size())\n",
    "    plt.imshow(x[1,:,:])\n",
    "    break"
   ]
  },
  {
   "cell_type": "markdown",
   "metadata": {},
   "source": [
    "# 模型"
   ]
  },
  {
   "cell_type": "code",
   "execution_count": 479,
   "metadata": {},
   "outputs": [],
   "source": [
    "class Linear(nn.Module):\n",
    "\n",
    "    def __init__(self):\n",
    "        super(Linear,self).__init__()\n",
    "        self.flatten = nn.Flatten()\n",
    "        self.linear_relu_stack = nn.Sequential(\n",
    "            nn.Linear(256, 128),\n",
    "            nn.ReLU(),\n",
    "            nn.Linear(128, 64),\n",
    "            nn.ReLU(),\n",
    "            nn.Linear(64, 32),\n",
    "            nn.ReLU(),\n",
    "            nn.Linear(32, 10)\n",
    "        )\n",
    "\n",
    "            \n",
    "    def forward(self,x):\n",
    "        x = self.flatten(x)\n",
    "        y = self.linear_relu_stack(x)\n",
    "        return y\n",
    "\n",
    "\n",
    "\n",
    "class RNN(nn.Module):\n",
    "    def __init__(self):\n",
    "        super(RNN,self).__init__()\n",
    "        self.rnn = nn.LSTM(\n",
    "            input_size=16,\n",
    "            hidden_size=64,\n",
    "            num_layers=1,\n",
    "            batch_first=True  # (batch, time_step, input_size)\n",
    "        )\n",
    "        self.linear1 = nn.Linear(64,32)\n",
    "        self.linear2 = nn.Linear(32,10)\n",
    "        self.relu = nn.ReLU()\n",
    "#         self.drop = nn.Dropout(p=0.5)\n",
    "        \n",
    "    \n",
    "    def forward(self,x):\n",
    "#         ,h_n = self.rnn(x)\n",
    "#         h_n = self.drop(h_n)\n",
    "#         h_n = self.linear1(self.relu(h_n))\n",
    "#         out = self.linear2(self.relu(h_n))\n",
    "        r_out, (h_n, h_c) = self.rnn(x, None)\n",
    "#         out = self.out(r_out[:, -1, :])\n",
    "        out = self.relu(self.linear1(r_out[:, -1, :]))\n",
    "        out = self.relu(self.linear2(out))\n",
    "        return out\n",
    "        \n",
    "        \n",
    "class CNN(nn.Module):\n",
    "    \n",
    "    def __init__(self):\n",
    "        super(CNN,self).__init__()\n",
    "        self.conv = nn.Sequential(\n",
    "            nn.Conv2d(in_channels=1, out_channels=8, kernel_size=3, stride=1, padding=1), #stride 步长\n",
    "            nn.ReLU(),\n",
    "            nn.MaxPool2d(2),\n",
    "            nn.Conv2d(8, 16, 3,1,1),\n",
    "            nn.ReLU(),\n",
    "            nn.MaxPool2d(2,2)\n",
    "        )\n",
    "        self.fc = nn.Sequential(\n",
    "            nn.Linear(16*4*4, 128),\n",
    "            nn.ReLU(),\n",
    "            nn.Linear(128, 64),\n",
    "            nn.ReLU(),\n",
    "            nn.Linear(64, 10)\n",
    "        )\n",
    "    \n",
    "    def forward(self,x):\n",
    "        feature = self.conv(x.unsqueeze(dim=1))\n",
    "        y_hat = self.fc(feature.view(x.shape[0], -1))\n",
    "        return y_hat\n"
   ]
  },
  {
   "cell_type": "code",
   "execution_count": null,
   "metadata": {},
   "outputs": [],
   "source": [
    "def train(model):\n",
    "    for epoch in range(10):\n",
    "        myloss = 0\n",
    "        for step,(x,y) in enumerate(train_data_loader):\n",
    "            optimizer.zero_grad()\n",
    "            y_hat = model(x)\n",
    "            loss = loss_func(y_hat,y)\n",
    "            loss.backward()\n",
    "            optimizer.step()\n",
    "            myloss += loss.item()\n",
    "#             print(Correct_rate(model,train_data_loader))\n",
    "        train_accurancy = Correct_rate(model,train_data_loader)\n",
    "        test_acurancy = Correct_rate(model,test_data_loader)\n",
    "        print('epoch',epoch,'| loss: %.4f'% (myloss/10000),'| train_accurancy: %.4f' %(train_accurancy/10000),'| test_acurancy: %.4f' %(test_acurancy/1000))\n",
    "\n",
    "            \n",
    "def Correct_rate(model,dataloader): # 正确率   \n",
    "        accurancy = 0\n",
    "        for x,y in dataloader:\n",
    "            output = model(x)\n",
    "            accurancy += (output.argmax(1) == y).sum().item()\n",
    "        return accurancy"
   ]
  },
  {
   "cell_type": "markdown",
   "metadata": {},
   "source": [
    "# 训练全连接神经网络"
   ]
  },
  {
   "cell_type": "code",
   "execution_count": 379,
   "metadata": {},
   "outputs": [],
   "source": [
    "model1 = Linear()\n",
    "optimizer = torch.optim.Adam(model1.parameters(), lr=0.001)\n",
    "loss_func = nn.CrossEntropyLoss()  # softmax, 输出每个类别的概率"
   ]
  },
  {
   "cell_type": "code",
   "execution_count": 400,
   "metadata": {},
   "outputs": [
    {
     "name": "stdout",
     "output_type": "stream",
     "text": [
      "epoch 0 | loss: 0.0722 | train_accurancy: 0.6926 | test_acurancy: 0.6740\n",
      "epoch 1 | loss: 0.0722 | train_accurancy: 0.6926 | test_acurancy: 0.6740\n",
      "epoch 2 | loss: 0.0722 | train_accurancy: 0.6926 | test_acurancy: 0.6740\n",
      "epoch 3 | loss: 0.0722 | train_accurancy: 0.6926 | test_acurancy: 0.6740\n",
      "epoch 4 | loss: 0.0722 | train_accurancy: 0.6926 | test_acurancy: 0.6740\n",
      "epoch 5 | loss: 0.0722 | train_accurancy: 0.6926 | test_acurancy: 0.6740\n",
      "epoch 6 | loss: 0.0722 | train_accurancy: 0.6926 | test_acurancy: 0.6740\n",
      "epoch 7 | loss: 0.0722 | train_accurancy: 0.6926 | test_acurancy: 0.6740\n",
      "epoch 8 | loss: 0.0722 | train_accurancy: 0.6926 | test_acurancy: 0.6740\n",
      "epoch 9 | loss: 0.0722 | train_accurancy: 0.6926 | test_acurancy: 0.6740\n"
     ]
    }
   ],
   "source": [
    "train(model1) "
   ]
  },
  {
   "cell_type": "markdown",
   "metadata": {},
   "source": [
    "# 训练CNN"
   ]
  },
  {
   "cell_type": "code",
   "execution_count": 381,
   "metadata": {},
   "outputs": [],
   "source": [
    "model2 = CNN()\n",
    "optimizer = torch.optim.Adam(model2.parameters(), lr=0.001)\n",
    "loss_func = nn.CrossEntropyLoss()  # softmax, 输出每个类别的概率"
   ]
  },
  {
   "cell_type": "code",
   "execution_count": 382,
   "metadata": {},
   "outputs": [
    {
     "name": "stdout",
     "output_type": "stream",
     "text": [
      "epoch 0 | loss: 0.0276 | train_accurancy: 0.9762 | test_acurancy: 0.9610\n",
      "epoch 1 | loss: 0.0080 | train_accurancy: 0.9839 | test_acurancy: 0.9720\n",
      "epoch 2 | loss: 0.0058 | train_accurancy: 0.9792 | test_acurancy: 0.9650\n",
      "epoch 3 | loss: 0.0051 | train_accurancy: 0.9944 | test_acurancy: 0.9850\n",
      "epoch 4 | loss: 0.0038 | train_accurancy: 0.9952 | test_acurancy: 0.9810\n",
      "epoch 5 | loss: 0.0031 | train_accurancy: 0.9962 | test_acurancy: 0.9820\n",
      "epoch 6 | loss: 0.0032 | train_accurancy: 0.9909 | test_acurancy: 0.9820\n",
      "epoch 7 | loss: 0.0033 | train_accurancy: 0.9838 | test_acurancy: 0.9740\n",
      "epoch 8 | loss: 0.0028 | train_accurancy: 0.9926 | test_acurancy: 0.9780\n",
      "epoch 9 | loss: 0.0025 | train_accurancy: 0.9929 | test_acurancy: 0.9810\n"
     ]
    }
   ],
   "source": [
    "train(model2)"
   ]
  },
  {
   "cell_type": "markdown",
   "metadata": {},
   "source": [
    "# 训练RNN"
   ]
  },
  {
   "cell_type": "code",
   "execution_count": 480,
   "metadata": {},
   "outputs": [],
   "source": [
    "model3 = RNN()\n",
    "optimizer = torch.optim.Adam(model3.parameters(), lr=0.001)\n",
    "loss_func = nn.CrossEntropyLoss()  # softmax, 输出每个类别的概率"
   ]
  },
  {
   "cell_type": "code",
   "execution_count": 481,
   "metadata": {},
   "outputs": [
    {
     "name": "stdout",
     "output_type": "stream",
     "text": [
      "epoch 0 | loss: 0.1619 | train_accurancy: 0.5948 | test_acurancy: 0.5700\n",
      "epoch 1 | loss: 0.1148 | train_accurancy: 0.6734 | test_acurancy: 0.6510\n",
      "epoch 2 | loss: 0.1054 | train_accurancy: 0.6995 | test_acurancy: 0.6830\n",
      "epoch 3 | loss: 0.0989 | train_accurancy: 0.7281 | test_acurancy: 0.7040\n",
      "epoch 4 | loss: 0.0950 | train_accurancy: 0.7332 | test_acurancy: 0.7090\n",
      "epoch 5 | loss: 0.0920 | train_accurancy: 0.7384 | test_acurancy: 0.7280\n",
      "epoch 6 | loss: 0.0887 | train_accurancy: 0.7623 | test_acurancy: 0.7450\n",
      "epoch 7 | loss: 0.0870 | train_accurancy: 0.7390 | test_acurancy: 0.7230\n",
      "epoch 8 | loss: 0.0846 | train_accurancy: 0.7790 | test_acurancy: 0.7490\n",
      "epoch 9 | loss: 0.0821 | train_accurancy: 0.7884 | test_acurancy: 0.7500\n"
     ]
    }
   ],
   "source": [
    "train(model3)"
   ]
  }
 ],
 "metadata": {
  "kernelspec": {
   "display_name": "Python 3",
   "language": "python",
   "name": "python3"
  },
  "language_info": {
   "codemirror_mode": {
    "name": "ipython",
    "version": 3
   },
   "file_extension": ".py",
   "mimetype": "text/x-python",
   "name": "python",
   "nbconvert_exporter": "python",
   "pygments_lexer": "ipython3",
   "version": "3.7.0"
  }
 },
 "nbformat": 4,
 "nbformat_minor": 2
}
